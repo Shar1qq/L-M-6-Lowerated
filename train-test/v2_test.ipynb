{
 "cells": [
  {
   "cell_type": "code",
   "execution_count": 3,
   "metadata": {},
   "outputs": [],
   "source": [
    "import torch\n",
    "from transformers import DebertaV2ForSequenceClassification, DebertaV2Tokenizer\n",
    "\n",
    "# Load the fine-tuned model and tokenizer\n",
    "model = DebertaV2ForSequenceClassification.from_pretrained('Lowerated/deberta-v3-lm6')\n",
    "tokenizer = DebertaV2Tokenizer.from_pretrained('Lowerated/deberta-v3-lm6')\n",
    "\n",
    "# Ensure the model is in evaluation mode\n",
    "model.eval()\n",
    "\n",
    "# Define the label mapping\n",
    "label_columns = ['Cinematography', 'Direction', 'Story', 'Characters', 'Production Design', 'Unique Concept', 'Emotions']\n",
    "\n",
    "# Function for predicting sentiment scores\n",
    "def predict_sentiment(review):\n",
    "    # Tokenize the input review\n",
    "    inputs = tokenizer(review, return_tensors='pt', truncation=True, padding=True)\n",
    "    \n",
    "    # Disable gradient calculations for inference\n",
    "    with torch.no_grad():\n",
    "        # Get model outputs\n",
    "        outputs = model(**inputs)\n",
    "    \n",
    "    # Get the prediction logits\n",
    "    predictions = outputs.logits.squeeze().detach().numpy()\n",
    "    return predictions\n",
    "\n",
    "# Function to print predictions with labels\n",
    "def print_predictions(review, predictions):\n",
    "    print(f\"Review: {review}\")\n",
    "    for label, score in zip(label_columns, predictions):\n",
    "        print(f\"{label}: {score:.2f}\")\n",
    "\n"
   ]
  },
  {
   "cell_type": "code",
   "execution_count": 5,
   "metadata": {},
   "outputs": [
    {
     "name": "stdout",
     "output_type": "stream",
     "text": [
      "Review: The cinematography was stunning, but the story was weak.\n",
      "Cinematography: 1.14\n",
      "Direction: 0.09\n",
      "Story: -0.78\n",
      "Characters: 0.02\n",
      "Production Design: -0.08\n",
      "Unique Concept: 0.24\n",
      "Emotions: 0.05\n"
     ]
    }
   ],
   "source": [
    "\n",
    "review = \"The cinematography was stunning, but the story was weak.\"\n",
    "predictions = predict_sentiment(review)\n",
    "print_predictions(review, predictions)\n"
   ]
  },
  {
   "cell_type": "code",
   "execution_count": null,
   "metadata": {},
   "outputs": [],
   "source": []
  }
 ],
 "metadata": {
  "kernelspec": {
   "display_name": "lowerated",
   "language": "python",
   "name": "python3"
  },
  "language_info": {
   "codemirror_mode": {
    "name": "ipython",
    "version": 3
   },
   "file_extension": ".py",
   "mimetype": "text/x-python",
   "name": "python",
   "nbconvert_exporter": "python",
   "pygments_lexer": "ipython3",
   "version": "3.10.14"
  }
 },
 "nbformat": 4,
 "nbformat_minor": 2
}
